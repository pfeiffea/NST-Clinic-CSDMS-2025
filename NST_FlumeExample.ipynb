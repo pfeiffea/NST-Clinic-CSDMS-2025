{
 "cells": [
  {
   "cell_type": "markdown",
   "id": "ab169579-2837-446c-b575-734ee1f39f33",
   "metadata": {},
   "source": [
    "<img align=\"right\" style=\"margin:0 0 20px 20px\" width=\"25%\" height=\"25%\" src=\"https://csdms.colorado.edu/csdms_wiki/images/OpenEarthscape_logo.png\">\n",
    "\n",
    "This tutorial illustrates how to model the transport of coarse sediment through a highly simplified synthetic river network (a simple 1D 'flume') using the [NetworkSedimentTransporter Landlab component](https://joss.theoj.org/papers/10.21105/joss.02341). This notebook is a condensed example of many of the [Landlab tutorials associated with the NetworkSedimentTransporter](https://landlab.csdms.io/generated/tutorials/index.html).\n",
    "\n",
    "\n",
    "In this example we will: \n",
    "- create a synthetic *Landlab grid*, mimicing a river-scale flume of uniform conditions\n",
    "- create *sediment “parcels”* that will transport through the river network, represented as items in a Landlab DataRecord\n",
    "- run the component in 3 configurations:\n",
    "    1. baseline run\n",
    "    2. recycling bed material\n",
    "    3. adding a pulse of sediment\n",
    "- plot the results of the model run\n",
    "\n",
    "First, let's import the necessary libraries:"
   ]
  },
  {
   "cell_type": "code",
   "execution_count": null,
   "id": "d1dd99d4-b33a-4913-9f6f-ad48b66ee512",
   "metadata": {},
   "outputs": [],
   "source": [
    "# import warnings\n",
    "# warings.filterwarnings(\"ignore\")\n",
    "\n",
    "import matplotlib.pyplot as plt\n",
    "import matplotlib as mpl \n",
    "\n",
    "import numpy as np\n",
    "import pandas as pd\n",
    "\n",
    "from landlab.components import (\n",
    "    FlowDirectorSteepest,\n",
    "    NetworkSedimentTransporter,\n",
    "    BedParcelInitializerDepth,\n",
    ")\n",
    "\n",
    "from landlab.grid.network import NetworkModelGrid"
   ]
  },
  {
   "cell_type": "markdown",
   "id": "32da8d46-1bec-40b9-8544-a1324f7310fe",
   "metadata": {},
   "source": [
    "### *i. Create the river network model grid*\n",
    "First, we need to create a Landlab NetworkModelGrid to represent the river network. Each link on the grid represents a reach of river. Each node represents a break between reaches. Here, we'll take a very simple approach, creating a single channel (i.e. no tributaries) of evenly spaced nodes. "
   ]
  },
  {
   "cell_type": "code",
   "execution_count": null,
   "id": "31abdd30-ba3e-4311-b910-d2c5c1922df0",
   "metadata": {},
   "outputs": [],
   "source": [
    "link_len = 100  # meters \n",
    "num_links = 15\n",
    "\n",
    "x_of_node = np.arange(0, link_len*num_links+1, link_len) # x and y coordinates of nodes\n",
    "y_of_node = np.ones_like(x_of_node)  # x and y coordinates of nodes\n",
    "\n",
    "nodes_at_link = []\n",
    "for i in range(np.size(y_of_node)-1):\n",
    "    nodes_at_link.append((i, i+1))\n",
    "\n",
    "grid = NetworkModelGrid((y_of_node, x_of_node), nodes_at_link)"
   ]
  },
  {
   "cell_type": "markdown",
   "id": "752a1748-a8e7-486d-9c2a-c934b8c86492",
   "metadata": {},
   "source": [
    "Our network consists of 15 links between 16 nodes. X and Y, above, represent the plan-view coordinates of the node locations. `nodes_at_link` describes the node indices that are connedted by each link. Note: this manual approach to grid creation would be cumbersome for a more complicated network. For those cases, see the other example notebook in this repository, which includes an example of reading in a shapefile. \n",
    "\n",
    "### *ii. Populate the grid with river channel parameters*\n",
    "\n",
    "Next, we need to populate the grid with the relevant topographic and flow information. \n",
    "\n",
    "We must define both topographic elevation (the top surface of the bed sediment) and bedrock elevation (the surface of the river in the absence of modeled sediment). Note that `topographic__elevation` will be updated at each model timestep depending on how much sediment is present. \n",
    "\n",
    "Also note that `reach_length` is defined by the user, rather than calculated as the minimum distance between nodes. This accounts for channel sinuosity."
   ]
  },
  {
   "cell_type": "code",
   "execution_count": null,
   "id": "368edbe1-ae22-46e4-a1f0-c5cdeeeea1ec",
   "metadata": {},
   "outputs": [],
   "source": [
    "# channel characteristics\n",
    "channel_slope = 0.01\n",
    "channel_width = 5 # m\n",
    "flow_depth = 1 # m\n",
    "\n",
    "# topographic information\n",
    "grid.at_link[\"flow_depth\"] = flow_depth * np.ones(grid.number_of_links)  # m\n",
    "grid.at_link[\"reach_length\"] = link_len * np.ones(grid.number_of_links) # m\n",
    "grid.at_link[\"channel_width\"] = channel_width * np.ones(grid.number_of_links)  # m\n",
    "    \n",
    "grid.at_link[\"channel_slope\"] = channel_slope * np.ones(grid.number_of_links)  # \n",
    "\n",
    "grid.at_node[\"topographic__elevation\"] = channel_slope*(link_len*num_links-x_of_node) # Gets updated with sed thickness at first timestep\n",
    "grid.at_node[\"bedrock__elevation\"] = grid.at_node[\"topographic__elevation\"].copy() # Remains constant\n"
   ]
  },
  {
   "cell_type": "markdown",
   "id": "b77b7800-0e7c-4bdb-a6e2-b3b5a4140a81",
   "metadata": {},
   "source": [
    "Take a moment to look at the syntax for the landlab grid: for each variable, we specify whether it is held on a node (`grid.at_node['example_var']`) or link(`grid.at_link['example_var']`). \n",
    "\n",
    "Also note that the indexing will not necessarily match the ordering of the inputs above (e.g. `x_of_node`). Landlab re-orders the links/nodes spatially, starting with the grid element at the lower left and working up. See [this Landlab tutorial](https://landlab.csdms.io/tutorials/grids/diverse_grid_classes.html) for more details. "
   ]
  },
  {
   "cell_type": "markdown",
   "id": "7bdad7c4-36f8-4b9c-a402-c307a06ef5c6",
   "metadata": {},
   "source": [
    "## *iii. Create parcels to represent sediment on the bed*\n",
    "\n",
    "First, we have to establish flow direction along our grid using the Landlab `FlowDirectorSteepest` component. Then, we use the handy dandy `BedParcelInitializerDepth` to automatically create parcels of sensible grain size distributions for each link of our river network based on a simple Shields stress approximation. "
   ]
  },
  {
   "cell_type": "code",
   "execution_count": null,
   "id": "31cd7f61-8354-4ddd-8c89-5dca3f9f4dcf",
   "metadata": {},
   "outputs": [],
   "source": [
    "# flow direction\n",
    "fd = FlowDirectorSteepest(grid, \"topographic__elevation\")\n",
    "fd.run_one_step()\n",
    "\n",
    "initialize_parcels = BedParcelInitializerDepth(\n",
    "    grid,\n",
    "    flow_depth_at_link=grid.at_link[\"flow_depth\"],\n",
    "    tau_c_multiplier=1.5, # values >1 create a more mobile bed, see Pfeiffer et al. 2017, PNAS\n",
    "    D84_D50 = 1, # create a narrow GSD (D84/D50 ~ 1.5)\n",
    "    median_number_of_starting_parcels=100, \n",
    "    extra_parcel_attributes=[\"source\"] # tagging the parcel source, for use below\n",
    ")\n",
    "\n",
    "parcels = initialize_parcels()\n",
    "\n",
    "parcels.dataset[\"source\"].values = np.full(parcels.number_of_items, \"initial_bed_sed\") \n"
   ]
  },
  {
   "cell_type": "markdown",
   "id": "ed9a29d8-8660-4b54-a317-92ee2877e0e2",
   "metadata": {},
   "source": [
    "Let's take a moment to look at the syntax of the parcels, which are an instance of the landlab `DataRecord`. We can reference parcel attributes and index them by parcel. As we run the `NetworkSedimentTransporter`, some attributes get tracked through time as well. These attributes are indexed via `[parcel_index, timestep]`."
   ]
  },
  {
   "cell_type": "code",
   "execution_count": null,
   "id": "bc8955e2-28d8-428f-a94c-40189415e4c6",
   "metadata": {},
   "outputs": [],
   "source": [
    "print('Parcel median grain size is ', np.nanmedian(parcels.dataset[\"D\"].values),' m') \n",
    "print('In the last (and only, for now) timestep, the first parcel is on link ', parcels.dataset['element_id'].values[0,-1]) # parcel indexing: [parcel_index,timestep]\n",
    "print('We have created ',parcels.number_of_items, ' parcels on the grid')"
   ]
  },
  {
   "cell_type": "markdown",
   "id": "52fd8faf-b19e-4f17-aad2-ed9d41b6ff0d",
   "metadata": {},
   "source": [
    "## *iv. Initialize the `NetworkSedimentTransporter` component and set up for model run*\n"
   ]
  },
  {
   "cell_type": "code",
   "execution_count": null,
   "id": "2f34a0ce-33ba-4429-b14d-fd00134fa62d",
   "metadata": {},
   "outputs": [],
   "source": [
    "# %%initialize the networksedimentTransporter\n",
    "nst = NetworkSedimentTransporter(\n",
    "    grid,\n",
    "    parcels,\n",
    "    fd,\n",
    "    active_layer_method = \"Constant10cm\",\n",
    ")"
   ]
  },
  {
   "cell_type": "markdown",
   "id": "d2f5020a-2607-4e68-9439-5e5eabbd23ca",
   "metadata": {},
   "source": [
    "Now that we've filled our numerical flume, let's run it..."
   ]
  },
  {
   "cell_type": "markdown",
   "id": "ca97c1e0-5286-4c39-9be1-32220d469d75",
   "metadata": {},
   "source": [
    "# Configuration 1: run the NST with no feed"
   ]
  },
  {
   "cell_type": "code",
   "execution_count": null,
   "id": "9b267a08-81ed-4cad-b86f-e0693ce17b2a",
   "metadata": {},
   "outputs": [],
   "source": [
    "# Run time\n",
    "timesteps = 50\n",
    "dt = 60*60*24*5  # (seconds)\n",
    "\n",
    "# set up a few variables for plotting: \n",
    "Elev_change = np.empty([grid.number_of_nodes,timesteps])*np.nan\n",
    "\n",
    "for t in range(0, (timesteps*dt), dt):\n",
    "\n",
    "    nst.run_one_step(dt)\n",
    "\n",
    "    # For plotting...\n",
    "    if t == 0:\n",
    "        elev_initial = grid.at_node[\"topographic__elevation\"].copy() \n",
    "        \n",
    "    Elev_change[:,np.int64(t/dt)] = grid.at_node['topographic__elevation']-elev_initial\n"
   ]
  },
  {
   "cell_type": "markdown",
   "id": "7473a20c-0022-440d-abc4-076954c30e14",
   "metadata": {},
   "source": [
    "We'll make a simple plot of elevation change through time and space."
   ]
  },
  {
   "cell_type": "code",
   "execution_count": null,
   "id": "c92a2095-adb7-4417-8d82-6eba8e154c84",
   "metadata": {},
   "outputs": [],
   "source": [
    "plt.pcolor(Elev_change[1:-1,:],cmap = 'coolwarm', norm = mpl.colors.CenteredNorm()) # cut off edge effects ds\n",
    "plt.colorbar(label = 'Elevation change (m)')\n",
    "plt.xlabel('timestep')\n",
    "plt.ylabel('link downstream --->')"
   ]
  },
  {
   "cell_type": "markdown",
   "id": "5bdef5ac-df5b-4f11-b896-93ebfbbd5987",
   "metadata": {},
   "source": [
    "Reminder: if you re-run this, you'll need to start from the top so you don't accumulate change in the parcels and grid. In the top bar, select Kernel --> \"Restart the Kernel and Run up to Selected Cell...\""
   ]
  },
  {
   "cell_type": "markdown",
   "id": "b881d0f5-6b8a-407e-916a-922722a71ff2",
   "metadata": {},
   "source": [
    "# Configuration 2: Recycle bed sediment that exits the downstream end\n",
    "\n",
    "Now, we'll run the same model, but 'recycle' sediment that exits the downstream end into an upper link. Conceptually, we can think of this as mimicking a recirculating flume, and will keep us from flushing our channel free of sediment. Computationally, this 'recycling' greatly reduces the memory needs of the model. Because parcels are tracked in time and space for the duration of the model run, creating new parcels to feed in to the upstream end (rather than reusing the existing ones) would increase the run time and the memory needs. \n",
    "\n",
    "Here, I'm recycling to link 1 (rather than 0) to prevent buildup. \n"
   ]
  },
  {
   "cell_type": "code",
   "execution_count": null,
   "id": "dde18f53-7e4e-48f7-8dfd-36b8b233cfb1",
   "metadata": {},
   "outputs": [],
   "source": [
    "OUT_OF_NETWORK = NetworkModelGrid.BAD_INDEX - 1 "
   ]
  },
  {
   "cell_type": "code",
   "execution_count": null,
   "id": "ffa17110-3ea2-4baa-93ff-0908dc8f2909",
   "metadata": {},
   "outputs": [],
   "source": [
    "parcels = initialize_parcels()\n",
    "parcels.dataset[\"source\"].values = np.full(parcels.number_of_items, \"initial_bed_sed\") \n",
    "nst = NetworkSedimentTransporter(\n",
    "    grid,\n",
    "    parcels,\n",
    "    fd,\n",
    "    active_layer_method = \"Constant10cm\",\n",
    ")\n",
    "\n",
    "# Run time\n",
    "timesteps = 300  \n",
    "dt = 60*60*24*5  # seconds\n",
    "\n",
    "# set up a few variables for plotting: \n",
    "Elev_change = np.empty([grid.number_of_nodes,timesteps])*np.nan\n",
    "Active_d_mean= np.empty([grid.number_of_links,timesteps])*np.nan\n",
    "\n",
    "for t in range(0, (timesteps*dt), dt):\n",
    "\n",
    "    ##### New: Recycle sediment ###############   \n",
    "    mask_exited = parcels.dataset.element_id.values[:,-1] == OUT_OF_NETWORK # mask to select parcels that have exited the grid\n",
    "    \n",
    "    parcels.dataset.starting_link.values[mask_exited] = OUT_OF_NETWORK # denote it was recycled: starting link = outlet\n",
    "    parcels.dataset.location_in_link.values[mask_exited, -1] = 0. # place at upstream most end of link (could also distribute randomly..)\n",
    "    parcels.dataset.element_id.values[mask_exited,-1] = 1 # move it to the 2nd to upstream most link (happens to be index 1)\n",
    "    ######################################  \n",
    "    \n",
    "    # Run one step\n",
    "    nst.run_one_step(dt)\n",
    "\n",
    "    Elev_change[:,np.int64(t/dt)] = grid.at_node['topographic__elevation']-elev_initial\n",
    "    Active_d_mean[:,np.int64(t/dt)]= nst.d_mean_active"
   ]
  },
  {
   "cell_type": "code",
   "execution_count": null,
   "id": "bc0dc35b-d5a9-4f08-95a7-28c5d0447c8e",
   "metadata": {},
   "outputs": [],
   "source": [
    "plt.pcolor(Elev_change,cmap = 'coolwarm', norm = mpl.colors.CenteredNorm()) # cut off edge effects ds\n",
    "plt.colorbar(label = 'Elevation change (m)')\n",
    "plt.xlabel('timestep')\n",
    "plt.ylabel('link downstream --->')"
   ]
  },
  {
   "cell_type": "markdown",
   "id": "fa5cea8d-0c11-489e-a8a9-2e45963a4eb3",
   "metadata": {},
   "source": [
    "Now, try increasing the number of timesteps (try 300) to see if our flume approaches an equilibrium"
   ]
  },
  {
   "cell_type": "code",
   "execution_count": null,
   "id": "cd2bd820-db38-4261-951e-7f51b47cb536",
   "metadata": {},
   "outputs": [],
   "source": []
  },
  {
   "cell_type": "markdown",
   "id": "260ab640-10e7-4cbf-8d3d-750b960e56d1",
   "metadata": {},
   "source": [
    "# Configuration 3: Add a sediment pulse"
   ]
  },
  {
   "cell_type": "code",
   "execution_count": null,
   "id": "062e8d4f-03f3-4c3e-b299-ef0267ce4b54",
   "metadata": {},
   "outputs": [],
   "source": [
    "# pulse characteristics \n",
    "num_pulse_parcels = 200\n",
    "pulse_time = 5 # timestep when pulse is added\n",
    "pulse_link = 3"
   ]
  },
  {
   "cell_type": "code",
   "execution_count": null,
   "id": "337890a1-0092-40a6-8fb5-4a2952f61cb7",
   "metadata": {},
   "outputs": [],
   "source": [
    "import warnings\n",
    "warnings.filterwarnings(\"ignore\")"
   ]
  },
  {
   "cell_type": "code",
   "execution_count": null,
   "id": "9f105042-9541-4b18-869c-78bd199b9e5c",
   "metadata": {},
   "outputs": [],
   "source": [
    "parcels = initialize_parcels()\n",
    "parcels.dataset[\"source\"].values = np.full(parcels.number_of_items, \"initial_bed_sed\") \n",
    "nst = NetworkSedimentTransporter(\n",
    "    grid,\n",
    "    parcels,\n",
    "    fd,\n",
    "    active_layer_method = \"Constant10cm\",\n",
    ")\n",
    "\n",
    "# Run time\n",
    "timesteps = 50  \n",
    "dt = 60*60*24*5  # (seconds)\n",
    "\n",
    "# set up a few variables for plotting: \n",
    "Elev_change = np.empty([grid.number_of_nodes,timesteps])*np.nan\n",
    "Active_d_mean= np.empty([grid.number_of_links,timesteps])*np.nan\n",
    "\n",
    "for t in range(0, (timesteps*dt), dt):\n",
    "    \n",
    "    if t == 0: # For plotting...\n",
    "        elev_initial = grid.at_node[\"topographic__elevation\"].copy() \n",
    "        \n",
    "    # Recycle only bed sediment\n",
    "    mask_exited = parcels.dataset.element_id.values[:,-1] == OUT_OF_NETWORK\n",
    "    mask_initial_bed = parcels.dataset.source == \"initial_bed_sed\" \n",
    "    \n",
    "    parcels.dataset.starting_link.values[mask_exited & mask_initial_bed] = -2 # way to denote it was recycled\n",
    "    parcels.dataset.location_in_link.values[mask_exited & mask_initial_bed,-1] = 0. # place at upstream most end of link (could also distribute randomly..)\n",
    "    parcels.dataset.element_id.values[mask_exited & mask_initial_bed,-1] = 0 # move it to the upstream most link (happens to be index 0)\n",
    "\n",
    "    ##### New: Add a single pulse ####### \n",
    "    if t==dt*pulse_time: \n",
    "\n",
    "        new_variables = {\n",
    "            \"starting_link\": ([\"item_id\"], np.ones(num_pulse_parcels)*pulse_link),\n",
    "            \"source\": ([\"item_id\"],  num_pulse_parcels * [\"pulse\"]),\n",
    "            \"time_arrival_in_link\": ([\"item_id\", \"time\"], np.ones((num_pulse_parcels,1))*nst._time_idx),\n",
    "            \"active_layer\": ([\"item_id\", \"time\"], np.ones((num_pulse_parcels,1))),\n",
    "            \"density\": ([\"item_id\"], np.ones(num_pulse_parcels)*2650),\n",
    "            \"abrasion_rate\": ([\"item_id\"],np.ones(num_pulse_parcels)*0),\n",
    "            \"location_in_link\": ([\"item_id\", \"time\"], np.random.rand(num_pulse_parcels, 1)), # \n",
    "            \"D\": ([\"item_id\", \"time\"], np.ones((num_pulse_parcels,1))*0.05), # Grain size\n",
    "            \"volume\": ([\"item_id\", \"time\"], np.ones((num_pulse_parcels,1))),\n",
    "            }\n",
    "        \n",
    "        newpar_element_id = np.full((num_pulse_parcels, 1), pulse_link, dtype=int)\n",
    "        \n",
    "        newpar_grid_elements = np.full_like(newpar_element_id, \"link\", dtype=object)\n",
    "\n",
    "        new_parcels = {\n",
    "            \"grid_element\": newpar_grid_elements,\n",
    "            \"element_id\": newpar_element_id,\n",
    "        }\n",
    "        \n",
    "        parcels.add_item(\n",
    "            time=[nst._time],\n",
    "            new_item = new_parcels,\n",
    "            new_item_spec = new_variables\n",
    "            )\n",
    "    ##########################  \n",
    "    \n",
    "    nst.run_one_step(dt)\n",
    "\n",
    "    Elev_change[:,np.int64(t/dt)] = grid.at_node['topographic__elevation']-elev_initial\n",
    "    Active_d_mean[:,np.int64(t/dt)]= nst.d_mean_active"
   ]
  },
  {
   "cell_type": "code",
   "execution_count": null,
   "id": "3804e80f-e269-46e2-9798-ddb0c7dfc49d",
   "metadata": {},
   "outputs": [],
   "source": [
    "plt.pcolor(Elev_change,cmap = 'coolwarm', norm = mpl.colors.CenteredNorm())\n",
    "plt.colorbar(label = 'Elevation change (m)')\n",
    "plt.xlabel('timestep')\n",
    "plt.ylabel('link downstream --->')"
   ]
  },
  {
   "cell_type": "code",
   "execution_count": null,
   "id": "d5a8a208-143f-4514-880e-ef486c29c2d7",
   "metadata": {},
   "outputs": [],
   "source": []
  },
  {
   "cell_type": "markdown",
   "id": "d92e15ef-1b12-4659-86f3-bb7afe39d687",
   "metadata": {},
   "source": [
    "A handful of variables you might want to explore"
   ]
  },
  {
   "cell_type": "code",
   "execution_count": null,
   "id": "08b7c799-ade6-4af6-80ce-6c5c1a4f0a65",
   "metadata": {},
   "outputs": [],
   "source": [
    "active_layer_volume = nst._active_layer_thickness *grid.at_link['channel_width']*link_len\n",
    "\n",
    "plt.hist(nst._distance_traveled_cumulative)#[-num_pulse_parcels:]\n",
    "\n",
    "np.nanmedian(parcels.dataset.D.values)"
   ]
  },
  {
   "cell_type": "markdown",
   "id": "24231649-eacf-46fd-a018-cd7494653506",
   "metadata": {},
   "source": [
    "Acknowledge: Landlab, OpenEarthscape, NSF LithSedPulse "
   ]
  },
  {
   "cell_type": "code",
   "execution_count": null,
   "id": "183462d4-e550-4fa0-a282-fea0e307a950",
   "metadata": {},
   "outputs": [],
   "source": []
  },
  {
   "cell_type": "code",
   "execution_count": null,
   "id": "f0124d7f-b052-48c2-a395-2679b2661747",
   "metadata": {},
   "outputs": [],
   "source": []
  },
  {
   "cell_type": "markdown",
   "id": "c96a1e1f-1285-4ac3-b100-c157c507006f",
   "metadata": {},
   "source": [
    "# Everything below here is scratch... combine/tidy"
   ]
  },
  {
   "cell_type": "markdown",
   "id": "61915120-d5b8-4af6-a94b-4b7c7f9dabab",
   "metadata": {},
   "source": [
    "Other tricks notebook:\n",
    "- animation of bed wave\n",
    "- visualizing parcel by parcel "
   ]
  },
  {
   "cell_type": "code",
   "execution_count": null,
   "id": "c4a339bd-58fb-439e-82e1-3dde4bb8be0e",
   "metadata": {},
   "outputs": [],
   "source": [
    "# Plotting parcels in a link\n",
    "\n",
    "tstep = 250\n",
    "link = 0\n",
    "\n",
    "mask_here = parcels.dataset.element_id.values[:,tstep] == link \n",
    "\n",
    "time_arrival = parcels.dataset.time_arrival_in_link.values[mask_here, tstep]\n",
    "volumes = parcels.dataset.volume.values[:, tstep]\n",
    "\n",
    "current_link = parcels.dataset.element_id.values[:,tstep].astype(int)    \n",
    "this_links_parcels = np.where(current_link == link)[0]\n",
    "\n",
    "time_arrival_sort =np.argsort(time_arrival,0,)\n",
    "parcel_id_time_sorted = this_links_parcels[time_arrival_sort]\n",
    "\n",
    "# Order variables first in last out\n",
    "vol_ordered_filo = volumes[parcel_id_time_sorted]\n",
    "cumvol_orderedfilo = np.cumsum(volumes[parcel_id_time_sorted])\n",
    "effectiveheight_orderedfilo = cumvol_orderedfilo/(grid.at_link[\"channel_width\"][link]*grid.at_link[\"reach_length\"][link])\n",
    "source_orderedfilo = parcels.dataset.source[parcel_id_time_sorted]\n",
    "active_orderedfilo = parcels.dataset.active_layer[parcel_id_time_sorted,tstep]\n",
    "location_in_link_orderedfilo = parcels.dataset.location_in_link.values[parcel_id_time_sorted,tstep]\n",
    "D_orderedfilo = parcels.dataset.D.values[parcel_id_time_sorted,tstep]\n",
    "starting_link_orderedfilo = parcels.dataset.starting_link.values[parcel_id_time_sorted]\n",
    "\n",
    "# Plot \n",
    "plt.scatter(location_in_link_orderedfilo[active_orderedfilo==1],\n",
    "            effectiveheight_orderedfilo[active_orderedfilo==1],\n",
    "            D_orderedfilo[active_orderedfilo==1]*500+5,\n",
    "            'k',\n",
    "            label = 'active')  \n",
    "\n",
    "plt.scatter(location_in_link_orderedfilo[active_orderedfilo==0],\n",
    "            effectiveheight_orderedfilo[active_orderedfilo==0],\n",
    "            D_orderedfilo[active_orderedfilo==0]*500+5,\n",
    "            'grey',\n",
    "            label ='inactive' )\n",
    "\n",
    "# Shade all pulse red/pink\n",
    "plt.scatter(location_in_link_orderedfilo[source_orderedfilo=='pulse'],\n",
    "            effectiveheight_orderedfilo[source_orderedfilo=='pulse'],\n",
    "            D_orderedfilo[source_orderedfilo=='pulse']*500+5,\n",
    "            'r',\n",
    "            alpha=0.7,\n",
    "            label = 'pulse')  \n",
    "\n",
    "# Shade all recycled green\n",
    "plt.scatter(location_in_link_orderedfilo[starting_link_orderedfilo==OUT_OF_NETWORK],\n",
    "            effectiveheight_orderedfilo[starting_link_orderedfilo==OUT_OF_NETWORK],\n",
    "            D_orderedfilo[starting_link_orderedfilo==OUT_OF_NETWORK]*500+5,\n",
    "            color = 'forestgreen',\n",
    "            alpha=0.5,\n",
    "            label='recycled')  \n",
    "\n",
    "plt.ylim(0,np.max(effectiveheight_orderedfilo)+0.2)\n",
    "plt.xlim(0,1)\n",
    "plt.xlabel('Fractional distance down reach')\n",
    "plt.ylabel('Height above bedrock (m)')\n",
    "plt.legend()\n",
    "\n",
    "plt.show()\n"
   ]
  }
 ],
 "metadata": {
  "kernelspec": {
   "display_name": "CSDMS",
   "language": "python",
   "name": "csdms"
  },
  "language_info": {
   "codemirror_mode": {
    "name": "ipython",
    "version": 3
   },
   "file_extension": ".py",
   "mimetype": "text/x-python",
   "name": "python",
   "nbconvert_exporter": "python",
   "pygments_lexer": "ipython3",
   "version": "3.12.7"
  }
 },
 "nbformat": 4,
 "nbformat_minor": 5
}
