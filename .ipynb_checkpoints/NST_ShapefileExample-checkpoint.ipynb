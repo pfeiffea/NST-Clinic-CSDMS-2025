{
 "cells": [
  {
   "cell_type": "markdown",
   "id": "6089940f-7bc0-4220-a00f-acc344c54317",
   "metadata": {
    "editable": true,
    "slideshow": {
     "slide_type": ""
    },
    "tags": []
   },
   "source": [
    "# Running the NetworkSedimentTransporter from a shapefile of a river network\n",
    "\n",
    "<img align=\"right\" style=\"margin:0 0 20px 20px\" width=\"25%\" height=\"25%\" src=\"https://csdms.colorado.edu/csdms_wiki/images/OpenEarthscape_logo.png\">\n",
    "\n",
    "*Allison Pfeiffer (pfeiffa@wwu.edu) May 2025*\n",
    "\n",
    "This tutorial illustrates how to model the transport of coarse sediment through a river network loaded from shapefiles using the [NetworkSedimentTransporter Landlab component](https://joss.theoj.org/papers/10.21105/joss.02341). This notebook is a condensed example of many of the [Landlab tutorials associated with the NetworkSedimentTransporter](https://landlab.csdms.io/generated/tutorials/index.html).\n",
    "\n",
    "This notebook is intended to follow the *Flume Example* notebook, and aims to minimize duplication of the information therein. \n",
    "\n",
    "In this example we will: \n",
    "- create a *Landlab grid* from loaded point and polyline shapefiles\n",
    "- create *sediment “parcels”* to mimic a natural gravel bedded river\n",
    "- run the component \n",
    "- plot the results of the model run\n",
    "\n",
    "First, let's import the necessary libraries:"
   ]
  },
  {
   "cell_type": "code",
   "execution_count": null,
   "id": "8b42348b-1f39-4c73-a178-8eb1b8431003",
   "metadata": {},
   "outputs": [],
   "source": [
    "import matplotlib.pyplot as plt\n",
    "import matplotlib.colors as colors\n",
    "import numpy as np\n",
    "import os\n",
    "import xarray as xr\n",
    "\n",
    "from landlab.io import read_shapefile\n",
    "\n",
    "from landlab.components import (\n",
    "    FlowDirectorSteepest,\n",
    "    NetworkSedimentTransporter,\n",
    "    BedParcelInitializerDepth,\n",
    ")\n",
    "\n",
    "from landlab.grid.network import NetworkModelGrid\n",
    "\n",
    "from landlab.io import esri_ascii, read_esri_ascii\n",
    "from landlab.plot.graph import plot_links, plot_nodes\n",
    "from landlab.plot.imshow import imshow_grid\n",
    "from landlab.plot import graph, plot_network_and_parcels\n",
    "\n",
    "OUT_OF_NETWORK = NetworkModelGrid.BAD_INDEX - 1"
   ]
  },
  {
   "cell_type": "markdown",
   "id": "eb7a565c-6ac9-4b61-af39-b62da6bf5ecd",
   "metadata": {},
   "source": [
    "### Creating a river network grid\n",
    "The first thing we'll do is create a landlab `NetworkModelGrid` from two shapefiles of a tiny little basin: one containing **points** at the node locations (populated with elevation and drainage area data), and the other containing **polylines** representing the links (populated with channel slope, reach length and drainage area data). \n",
    "\n",
    "Doing this for a basin of your own? A starting guideline is to create links that are relatively consistent length, editing the network as needed to ensure that no links are much smaller than others. Very small links will have very small active layer volumes, and may be prone to runaway aggradation if transport capacity is slightly lower than the upstream links. \n",
    "\n",
    "For a small, simple river network, these shapefiles are easy to create yourself in GIS from a DEM. However, for a larger one this would become cumbersome. You have two good options for streamlining this process: \n",
    "1. Scott David (USU) and colleagues at Utah State have created a set of tools for extracting a river network and all the attributes you'd like from a DEM [(USUAL Watershed Tools, David et al., 2023)](https://www.sciencedirect.com/science/article/abs/pii/S1364815222002766).\n",
    "2. Shelby Ahrendt (USGS) and Eric Hutton (CSDMS) have created a much simpler, though somewhat more limited tool, to create a network model grid from a DEM in just a few lines of code. [This landlab tutorial](https://landlab.csdms.io/tutorials/network_sediment_transporter/create_networkgrid_from_rastergrid.html) notebook explains its use.  "
   ]
  },
  {
   "cell_type": "code",
   "execution_count": null,
   "id": "ed9b5bec-8cb7-40f0-b2b7-2b4001f4c647",
   "metadata": {},
   "outputs": [],
   "source": [
    "# Create Network Model Grid from shapefile\n",
    "link_shapefile = os.path.join(os.getcwd (), (\"hugo_links6.shp\"))\n",
    "points_shapefile = os.path.join(os.getcwd(), (\"hugo_nodes.shp\"))\n",
    "\n",
    "grid = read_shapefile(\n",
    "    link_shapefile,\n",
    "    points_shapefile = points_shapefile,\n",
    "    node_fields = [\"Elev_m\", \"DArea_m2\"],\n",
    "    link_fields = [\"Chan_slope\", \"length_m\",\"DA_aprx_m2\"],\n",
    "    link_field_conversion = {\"Chan_slope\":\"channel_slope\", \"length_m\":\"reach_length\",\"DA_aprx_m2\":\"drainage_area\"}, # maps from shapefile field names to standard landlab variables ## \n",
    "    node_field_conversion = {\"DArea_m2\": \"drainage_area\", \"Elev_m\": \"topographic__elevation\"},\n",
    "    threshold = 10,\n",
    "    )\n",
    "\n",
    "grid.at_node[\"topographic__elevation\"]=grid.at_node[\"topographic__elevation\"].astype(float)\n",
    "grid.at_node[\"bedrock__elevation\"] = grid.at_node[\"topographic__elevation\"].copy()\n",
    "\n",
    "# For plotting later, we'll read in the DEM as a raster model grid\n",
    "rm_grid, z = read_esri_ascii(\"hugo_site.asc\", name=\"topographic__elevation\")\n",
    "rm_grid.status_at_node[rm_grid.nodes_at_right_edge] = rm_grid.BC_NODE_IS_FIXED_VALUE\n",
    "rm_grid.status_at_node[np.isclose(z, -9999.0)] = rm_grid.BC_NODE_IS_CLOSED"
   ]
  },
  {
   "cell_type": "markdown",
   "id": "f490213b-4f3f-4585-86e2-845834ed87cc",
   "metadata": {},
   "source": [
    "Here is a is a simplified view of the topology of our network model grid, labeled with the link and node indices:"
   ]
  },
  {
   "cell_type": "code",
   "execution_count": null,
   "id": "9de0a60d-e381-4219-b3a4-e5f2e5286856",
   "metadata": {
    "scrolled": true
   },
   "outputs": [],
   "source": [
    "graph.plot_graph(grid, at=\"node,link\")"
   ]
  },
  {
   "cell_type": "markdown",
   "id": "af5ab299-47dc-4835-a037-78e6ede5af4a",
   "metadata": {},
   "source": [
    "Note that the indexing will not match the ordering of the shapefile IDs. Landlab re-orders the links/nodes spatially, starting with the grid element at the lower left and working up. See [this Landlab tutorial](https://landlab.csdms.io/tutorials/grids/diverse_grid_classes.html) for more details. "
   ]
  },
  {
   "cell_type": "markdown",
   "id": "5f6eee5b-045d-4f34-ba45-b0ad516ee1b5",
   "metadata": {},
   "source": [
    "### Assign variables based on hydraulic geometry scaling\n",
    "\n",
    "Because our shapefiles didn't contain width and flow depth data, we'll use downstream hydraulic geometry scaling relationships to estimate these and assign them to the grid. "
   ]
  },
  {
   "cell_type": "code",
   "execution_count": null,
   "id": "e2c12bb4-175b-489d-b524-f8cb6887a2f8",
   "metadata": {},
   "outputs": [],
   "source": [
    "# Approximately Scott Creek, CA hydraulic geometry relations \n",
    "\n",
    "grid.at_link[\"channel_width\"] = 0.0028 * (grid.at_link['drainage_area'])**(0.49)# m\n",
    "\n",
    "grid.at_link[\"flow_depth\"] = 0.008 * (grid.at_link['drainage_area'])**(0.32)# m"
   ]
  },
  {
   "cell_type": "markdown",
   "id": "497abc49-bc40-461a-82fb-30a6c09332d4",
   "metadata": {},
   "source": [
    "### Check grid for reasonable characteristics\n",
    "\n",
    "*Reminder: check your network for physically reasonable geometry!* \n",
    "\n",
    "Because the `NetworkSedimentTransporter` calculates transport based on reach averaged shear stress calculated based on a simple depth-slope product, we should have links that are longer than the backwater lengthscale (see Paola and Mohrig, 1996). We can check that before moving on. "
   ]
  },
  {
   "cell_type": "code",
   "execution_count": null,
   "id": "2f0e94ea-6f6e-4d06-a26c-96905d94d0a7",
   "metadata": {},
   "outputs": [],
   "source": [
    "backwater_lengthscale = grid.at_link[\"flow_depth\"]/grid.at_link[\"channel_slope\"]\n",
    "\n",
    "if np.any(grid.at_link[\"reach_length\"]<backwater_lengthscale): \n",
    "    print('warning: links are shorter than the backwater lengthscale')\n",
    "else: \n",
    "    print('All links are longer than their backwater lengthscale. Good.')"
   ]
  },
  {
   "cell_type": "markdown",
   "id": "fe43a8b4-ddb7-4b8c-ab57-f0c45644abb1",
   "metadata": {},
   "source": [
    "Now we make parcels"
   ]
  },
  {
   "cell_type": "code",
   "execution_count": null,
   "id": "0677bdc0-46ad-47cd-b01b-2fe9ebd65eda",
   "metadata": {},
   "outputs": [],
   "source": [
    "initialize_parcels = BedParcelInitializerDepth(grid,\n",
    "                                          flow_depth_at_link = grid.at_link[\"flow_depth\"],\n",
    "                                          tau_c_50=0.045,\n",
    "                                          tau_c_multiplier = 2.8, # high mobility channel\n",
    "                                          median_number_of_starting_parcels= 100,\n",
    "                                          extra_parcel_attributes = ['some_attribute']\n",
    "                                          )\n",
    "parcels = initialize_parcels()\n",
    "\n",
    "#parcels.dataset['some_attribute'].values = np.full(parcels.number_of_items, \"boring\")\n",
    "#parcels.dataset['some_attribute'].values[99]= \"special_one\""
   ]
  },
  {
   "cell_type": "markdown",
   "id": "7a2e9967-5984-4878-9029-615c8275ca96",
   "metadata": {},
   "source": [
    "### Run the NST\n",
    "\n",
    "This time, we'll keep it simple, running the NST in its simplest configuration for just 10 timesteps. "
   ]
  },
  {
   "cell_type": "code",
   "execution_count": null,
   "id": "fbdc61e0-9e96-468f-9e43-f1a5e64ffb24",
   "metadata": {},
   "outputs": [],
   "source": [
    "# set up and run the flow director\n",
    "fd = FlowDirectorSteepest(grid, \"topographic__elevation\")\n",
    "fd.run_one_step()\n",
    "\n",
    "# initialize the NST\n",
    "nst = NetworkSedimentTransporter(\n",
    "    grid,\n",
    "    parcels,\n",
    "    fd,\n",
    "    active_layer_method = \"Constant10cm\",\n",
    ")\n",
    "\n",
    "timesteps = 10\n",
    "dt = 60*60*24 # seconds\n",
    "\n",
    "for t in range(0, (timesteps*dt), dt):\n",
    "\n",
    "    nst.run_one_step(dt)\n"
   ]
  },
  {
   "cell_type": "markdown",
   "id": "a3f95573-1d04-4a9b-9541-fd70c82098e0",
   "metadata": {},
   "source": [
    "### Plot the results in map form"
   ]
  },
  {
   "cell_type": "code",
   "execution_count": null,
   "id": "5397bfed-1c93-41eb-bd1c-0f583356425e",
   "metadata": {},
   "outputs": [],
   "source": [
    "plt.figure(\"DEM_and_Network\")\n",
    "\n",
    "imshow_grid(\n",
    "    rm_grid,\n",
    "    \"topographic__elevation\",\n",
    "    color_for_closed=None,\n",
    "    allow_colorbar=False,\n",
    ")\n",
    "\n",
    "plot_network_and_parcels(\n",
    "    grid,\n",
    "    parcels,\n",
    "    link_attribute=nst.d_mean_active,\n",
    "    parcel_alpha=0, # For now, we'll just look at the network\n",
    "    network_linewidth= 3,\n",
    "    link_attribute_title= \"D mean of active layer\",\n",
    "    network_cmap= \"coolwarm\",\n",
    "    fig=plt.figure(\"DEM_and_Network\"),\n",
    "    )"
   ]
  },
  {
   "cell_type": "markdown",
   "id": "c47ccbba-1b66-4dbe-871b-48bd4cd92e75",
   "metadata": {},
   "source": [
    "### Query particular parcels\n",
    "\n",
    "Below is an example of a more complicated example: filtering to only consider the last timestep status of the parcels that originated on a particular link of interest. "
   ]
  },
  {
   "cell_type": "code",
   "execution_count": null,
   "id": "28d2ab44-7074-4711-a1b5-71cc50a95556",
   "metadata": {},
   "outputs": [],
   "source": [
    "timestep_of_interest = -1\n",
    "originating_link = 15 \n",
    "\n",
    "# filter the parcels to calculate total volumes of only the parcels that originated in the chosen link\n",
    "parcelfilter = np.zeros_like(parcels.dataset.element_id, dtype=bool)\n",
    "parcelfilter[:, timestep_of_interest] = (\n",
    "    parcels.dataset.element_id[:, 0] == originating_link\n",
    ")\n",
    "\n",
    "vol_orig_link = parcels.calc_aggregate_value(\n",
    "    xr.Dataset.sum, \"volume\", at=\"link\", filter_array=parcelfilter, fill_value=0.0\n",
    ")\n",
    "\n",
    "fig = plot_network_and_parcels(\n",
    "    grid,\n",
    "    parcels,\n",
    "    \n",
    "    # Color links by the volume of sed in last timestep that originated on our link of interest\n",
    "    link_attribute=vol_orig_link,\n",
    "    link_attribute_title=\"Vol of sed originating on link x\",\n",
    "    network_linewidth=10,\n",
    "    network_cmap='copper_r',\n",
    "\n",
    "    # Plot the location of each parcel that originated on that link\n",
    "    parcel_filter=parcelfilter[:,-1],\n",
    "    parcel_alpha=1.0,\n",
    "    parcel_color_attribute=\"D\",\n",
    "    parcel_size = 15,\n",
    "    parcel_color_norm=colors.LogNorm(vmin=0.01, vmax=1),\n",
    "    parcel_color_cmap = 'bone_r'\n",
    ")"
   ]
  },
  {
   "cell_type": "markdown",
   "id": "88c08a28-dc8b-4447-bc40-e5b40f0da38d",
   "metadata": {},
   "source": [
    "### Other plots to visualize results"
   ]
  },
  {
   "cell_type": "code",
   "execution_count": null,
   "id": "4b12b3eb-f265-4e74-ae7f-89a43f694ac8",
   "metadata": {},
   "outputs": [],
   "source": [
    "plt.plot(grid.at_link[\"channel_slope\"], nst.d_mean_active, \".\")\n",
    "plt.xlabel(\"Channel slope (m/m)\")\n",
    "plt.ylabel(\"Mean grain size of active layer (m)\")"
   ]
  },
  {
   "cell_type": "code",
   "execution_count": null,
   "id": "225c6bad-3197-440c-ac87-225ae96a8202",
   "metadata": {},
   "outputs": [],
   "source": [
    "plt.loglog(parcels.dataset.D[:, -1], nst._distance_traveled_cumulative, \".\")\n",
    "plt.xlabel(\"Parcel grain size (m)\")\n",
    "plt.ylabel(\"Cumulative parcel travel distance (m)\")\n",
    "\n",
    "# Note: some of the smallest grain travel distances can exceed the length of the\n",
    "# grid by \"overshooting\" during a single timestep of high transport rate"
   ]
  },
  {
   "cell_type": "markdown",
   "id": "5536c550-674a-4e22-a409-00b9242abf5d",
   "metadata": {},
   "source": [
    "# Excited to explore and develop the NST? \n",
    "The posibilities are endless! There is so much that can be done. \n",
    "\n",
    "### Wish list: \n",
    "- memory savers! simple option to occasionally dump early parcels timestep records from xarray dataset (every 500 timesteps?) to file\n",
    "- modify landlab utilities like `flow__distance` to work on network model grid\n",
    "- modify NST to allow for automatic stress partitioning based on active layer grain size\n",
    "\n",
    "### In progress: \n",
    "- modify to use D50 in Wilcock and Crowe equations (Ask Allison)\n",
    "- add Gilbert and Wilcox (2024) sediment transport equations (Ask Fatemeh)"
   ]
  },
  {
   "cell_type": "markdown",
   "id": "b0e2933e-8eff-4dc9-8894-95957a02098d",
   "metadata": {},
   "source": [
    "### Acknowledgements: \n",
    "Development of the Landlab NetworkSedimentTransporter and this clinic was supported by NSF grants [GLD 2138504](https://www.nsf.gov/awardsearch/showAward?AWD_ID=2138504&utm_medium=email&utm_source=govdelivery) and [CSSI 2104055](https://www.nsf.gov/awardsearch/showAward?AWD_ID=2104055&HistoricalAwards=false).\n",
    "\n",
    "Thanks to Mark Piper, Eric Hutton, and Jon Czuba for technical and scientific assistance. "
   ]
  },
  {
   "cell_type": "code",
   "execution_count": null,
   "id": "23543765-3357-40b3-964c-17b2a1d2659b",
   "metadata": {},
   "outputs": [],
   "source": []
  }
 ],
 "metadata": {
  "kernelspec": {
   "display_name": "Python 3 (ipykernel)",
   "language": "python",
   "name": "python3"
  },
  "language_info": {
   "codemirror_mode": {
    "name": "ipython",
    "version": 3
   },
   "file_extension": ".py",
   "mimetype": "text/x-python",
   "name": "python",
   "nbconvert_exporter": "python",
   "pygments_lexer": "ipython3",
   "version": "3.13.3"
  }
 },
 "nbformat": 4,
 "nbformat_minor": 5
}
