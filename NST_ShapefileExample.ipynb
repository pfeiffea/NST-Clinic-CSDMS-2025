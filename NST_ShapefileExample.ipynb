{
 "cells": [
  {
   "cell_type": "markdown",
   "id": "6089940f-7bc0-4220-a00f-acc344c54317",
   "metadata": {
    "editable": true,
    "slideshow": {
     "slide_type": ""
    },
    "tags": []
   },
   "source": [
    "# Running the NetworkSedimentTransporter from a shapefile of a river network\n",
    "\n",
    "<img align=\"right\" style=\"margin:0 0 20px 20px\" width=\"25%\" height=\"25%\" src=\"https://csdms.colorado.edu/csdms_wiki/images/OpenEarthscape_logo.png\">\n",
    "\n",
    "Supported by NSF to Pfeiffer, Czuba, plus OpenEarthscape\n",
    "\n",
    "Some links to NST notebooks. \\\n",
    "\n",
    "Link to original NST JOSS paper\n",
    "\n",
    "Point to USUAL tools... "
   ]
  },
  {
   "cell_type": "code",
   "execution_count": 8,
   "id": "8b42348b-1f39-4c73-a178-8eb1b8431003",
   "metadata": {},
   "outputs": [],
   "source": [
    "import matplotlib.pyplot as plt\n",
    "import numpy as np\n",
    "import os\n",
    "import xarray as xr\n",
    "\n",
    "from landlab.io import read_shapefile\n",
    "\n",
    "from landlab.components import (\n",
    "    FlowDirectorSteepest,\n",
    "    NetworkSedimentTransporter,\n",
    "    BedParcelInitializerDepth,\n",
    ")\n",
    "\n",
    "from landlab.grid.network import NetworkModelGrid\n",
    "\n",
    "from landlab.io import esri_ascii, read_esri_ascii\n",
    "from landlab.plot.graph import plot_links, plot_nodes\n",
    "from landlab.plot.imshow import imshow_grid\n",
    "from landlab.plot import plot_network_and_parcels\n",
    "\n",
    "OUT_OF_NETWORK = NetworkModelGrid.BAD_INDEX - 1"
   ]
  },
  {
   "cell_type": "code",
   "execution_count": 9,
   "id": "ed9b5bec-8cb7-40f0-b2b7-2b4001f4c647",
   "metadata": {},
   "outputs": [
    {
     "name": "stderr",
     "output_type": "stream",
     "text": [
      "/tmp/ipykernel_187802/997342131.py:18: DeprecationWarning: landlab.io.read_asc_header has been deprecated, use landlab.io.esri_ascii.parse instead\n",
      "  rm_grid, z = read_esri_ascii(\"hugo_site.asc\", name=\"topographic__elevation\")\n"
     ]
    }
   ],
   "source": [
    "# Create Network Model Grid from shapefile\n",
    "link_shapefile = os.path.join(os.getcwd (), (\"hugo_links6.shp\"))\n",
    "points_shapefile = os.path.join(os.getcwd(), (\"hugo_nodes.shp\"))\n",
    "\n",
    "grid = read_shapefile(\n",
    "    link_shapefile,\n",
    "    points_shapefile = points_shapefile,\n",
    "    node_fields = [\"Elev_m\", \"DArea_m2\"],\n",
    "    link_fields = [\"Chan_slope\", \"Shape_Leng\",\"DA_aprx_m2\"],\n",
    "    link_field_conversion = {\"Chan_slope\":\"channel_slope\", \"Shape_Leng\":\"reach_length\",\"DA_aprx_m2\":\"drainage_area\"}, # maps from shapefile field names to standard landlab variables ## \n",
    "    node_field_conversion = {\"DArea_m2\": \"drainage_area\", \"Elev_m\": \"topographic__elevation\"},\n",
    "    threshold = 10,\n",
    "    )\n",
    "\n",
    "grid.at_node[\"topographic__elevation\"]=grid.at_node[\"topographic__elevation\"].astype(float)\n",
    "grid.at_node[\"bedrock__elevation\"] = grid.at_node[\"topographic__elevation\"].copy()\n",
    "\n",
    "rm_grid, z = read_esri_ascii(\"hugo_site.asc\", name=\"topographic__elevation\")\n",
    "rm_grid.status_at_node[rm_grid.nodes_at_right_edge] = rm_grid.BC_NODE_IS_FIXED_VALUE\n",
    "rm_grid.status_at_node[np.isclose(z, -9999.0)] = rm_grid.BC_NODE_IS_CLOSED"
   ]
  },
  {
   "cell_type": "markdown",
   "id": "f490213b-4f3f-4585-86e2-845834ed87cc",
   "metadata": {},
   "source": [
    "Note that the indexing will not match the ordering of the shapefile IDs. Landlab re-orders the links/nodes spatially, starting with the grid element at the lower left and working up. See [this Landlab tutorial](https://landlab.csdms.io/tutorials/grids/diverse_grid_classes.html) for more details. \n",
    "\n",
    "\n",
    "XXXXX plot grid to show it..."
   ]
  },
  {
   "cell_type": "markdown",
   "id": "5f6eee5b-045d-4f34-ba45-b0ad516ee1b5",
   "metadata": {},
   "source": [
    "#### Assign variables based on hydraulic geom scaling"
   ]
  },
  {
   "cell_type": "code",
   "execution_count": 10,
   "id": "e2c12bb4-175b-489d-b524-f8cb6887a2f8",
   "metadata": {},
   "outputs": [],
   "source": [
    "# Approximately Scott Creek, CA hydraulic geometry relations \n",
    "\n",
    "grid.at_link[\"channel_width\"] = 0.0028 * (grid.at_link['drainage_area'])**(0.49)# m\n",
    "\n",
    "grid.at_link[\"flow_depth\"] = 0.008 * (grid.at_link['drainage_area'])**(0.32)# m\n"
   ]
  },
  {
   "cell_type": "markdown",
   "id": "497abc49-bc40-461a-82fb-30a6c09332d4",
   "metadata": {},
   "source": [
    "INSERT a code block here inspecting the grid. \n",
    "\n",
    "Remind users to check for reasonable hydraulic geometry relationships and network geometry. Beware very short links. Beware links with very low or very high slope."
   ]
  },
  {
   "cell_type": "markdown",
   "id": "fe43a8b4-ddb7-4b8c-ab57-f0c45644abb1",
   "metadata": {},
   "source": [
    "Now we make parcels"
   ]
  },
  {
   "cell_type": "code",
   "execution_count": 11,
   "id": "0677bdc0-46ad-47cd-b01b-2fe9ebd65eda",
   "metadata": {},
   "outputs": [],
   "source": [
    "initialize_parcels = BedParcelInitializerDepth(grid,\n",
    "                                          flow_depth_at_link = grid.at_link[\"flow_depth\"],\n",
    "                                          tau_c_50=0.045,\n",
    "                                          tau_c_multiplier = 1/0.28, #Scott Ck ratio\n",
    "                                          median_number_of_starting_parcels= 100,\n",
    "                                          extra_parcel_attributes = ['inception']\n",
    "                                          )\n",
    "\n",
    "parcels = initialize_parcels()\n"
   ]
  },
  {
   "cell_type": "code",
   "execution_count": 13,
   "id": "5ace3280-4827-4b0d-9d18-2a0643adc093",
   "metadata": {},
   "outputs": [
    {
     "name": "stdout",
     "output_type": "stream",
     "text": [
      "[0.05052321 0.05493937 0.06106724 0.03470022 0.02905837 0.06045079\n",
      " 0.04479299 0.04736966 0.08527439 0.07634372 0.07148845 0.03856258\n",
      " 0.04823058 0.04041348 0.02925193 0.03279505]\n"
     ]
    },
    {
     "name": "stderr",
     "output_type": "stream",
     "text": [
      "/opt/tljh/user/envs/csdms/lib/python3.12/site-packages/xarray/core/dataset.py:4802: UserWarning: No index created for dimension element_id because variable element_id is not a coordinate. To create an index for element_id, please first call `.set_coords('element_id')` on this object.\n",
      "  warnings.warn(\n"
     ]
    }
   ],
   "source": [
    "# code block inspecting parcels -- D50, min/max, parcel volume\n",
    "D50 = parcels.calc_aggregate_value(xr.Dataset.median, \"D\", at=\"link\", fill_value=0.0) \n",
    "\n",
    "print(D50)"
   ]
  },
  {
   "cell_type": "code",
   "execution_count": 14,
   "id": "fbdc61e0-9e96-468f-9e43-f1a5e64ffb24",
   "metadata": {},
   "outputs": [],
   "source": [
    "fd = FlowDirectorSteepest(grid, \"topographic__elevation\")\n",
    "fd.run_one_step()\n",
    "\n",
    "nst = NetworkSedimentTransporter(\n",
    "    grid,\n",
    "    parcels,\n",
    "    fd,\n",
    "    active_layer_method = \"Constant10cm\",\n",
    ")\n",
    "\n",
    "timesteps = 10\n",
    "dt = 60*60*24 # seconds\n",
    "\n",
    "for t in range(0, (timesteps*dt), dt):\n",
    "\n",
    "    nst.run_one_step(dt)\n",
    "\n"
   ]
  },
  {
   "cell_type": "code",
   "execution_count": null,
   "id": "73f39b18-13c4-4a3d-8858-c67010170346",
   "metadata": {},
   "outputs": [],
   "source": []
  },
  {
   "cell_type": "code",
   "execution_count": 15,
   "id": "5f918170-8f84-4ab1-870d-09b691adaffb",
   "metadata": {},
   "outputs": [
    {
     "name": "stderr",
     "output_type": "stream",
     "text": [
      "/opt/tljh/user/envs/csdms/lib/python3.12/site-packages/landlab/plot/network_sediment_transporter/plot_network_and_parcels.py:374: UserWarning: No data for colormapping provided via 'c'. Parameters 'cmap' will be ignored\n",
      "  scatter = ax.scatter(\n"
     ]
    },
    {
     "data": {
      "image/png": "[encoded data removed]",
      "text/plain": [
       "<Figure size 640x480 with 3 Axes>"
      ]
     },
     "metadata": {},
     "output_type": "display_data"
    }
   ],
   "source": [
    "plt.figure(\"DEM_and_Network\")\n",
    "\n",
    "imshow_grid(\n",
    "    rm_grid,\n",
    "    \"topographic__elevation\",\n",
    "    color_for_closed=None,\n",
    "    allow_colorbar=False,\n",
    ")\n",
    "\n",
    "plot_network_and_parcels(\n",
    "    grid,\n",
    "    parcels,\n",
    "    parcel_time_index=0,\n",
    "    link_attribute=('sediment_total_volume'),\n",
    "    parcel_alpha=0.5,\n",
    "    network_linewidth= 3,\n",
    "    link_attribute_title= \"volume\",\n",
    "    network_cmap= \"coolwarm\",\n",
    "    fig=plt.figure(\"DEM_and_Network\"),\n",
    "    )"
   ]
  },
  {
   "cell_type": "code",
   "execution_count": null,
   "id": "4b12b3eb-f265-4e74-ae7f-89a43f694ac8",
   "metadata": {},
   "outputs": [],
   "source": []
  },
  {
   "cell_type": "markdown",
   "id": "f63f9a05-3ad3-4018-a3e4-72255b59ef8a",
   "metadata": {},
   "source": [
    "make sure that somewhere we show them how to sort by drainage area"
   ]
  },
  {
   "cell_type": "markdown",
   "id": "64d08201-29db-4f41-9406-7ea27f5334f8",
   "metadata": {},
   "source": [
    "Remind people to go to the NST tutorials for more examples\n"
   ]
  },
  {
   "cell_type": "code",
   "execution_count": null,
   "id": "286690e8-48fd-4414-bf55-29017960c0df",
   "metadata": {},
   "outputs": [],
   "source": []
  }
 ],
 "metadata": {
  "kernelspec": {
   "display_name": "CSDMS",
   "language": "python",
   "name": "csdms"
  },
  "language_info": {
   "codemirror_mode": {
    "name": "ipython",
    "version": 3
   },
   "file_extension": ".py",
   "mimetype": "text/x-python",
   "name": "python",
   "nbconvert_exporter": "python",
   "pygments_lexer": "ipython3",
   "version": "3.12.7"
  }
 },
 "nbformat": 4,
 "nbformat_minor": 5
}
